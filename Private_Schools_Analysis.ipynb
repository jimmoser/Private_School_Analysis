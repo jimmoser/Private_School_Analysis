{
 "cells": [
  {
   "cell_type": "markdown",
   "metadata": {},
   "source": [
    "# The Decline in the Number of Private Schools in U.S. Since 2017\n",
    "This jupyter notebook looks at the number of private schools state-by-state. And also does a comparison of the number of private schools in states versus their population.\n",
    "\n",
    "The data about the number and location of private schools is from Data.gov. The population data is from the St. Louis Federal Reserve.\n",
    "\n",
    "I'm currently a teacher at a Private School in Missouri, and I was interested to investigate the trends for private schools around the nation."
   ]
  },
  {
   "cell_type": "code",
   "execution_count": 1,
   "metadata": {
    "collapsed": true
   },
   "outputs": [],
   "source": [
    "import pandas as pd\n",
    "import matplotlib.pyplot as plt\n",
    "import numpy as np\n",
    "import json\n",
    "%matplotlib inline\n",
    "\n",
    "# This imports the Private School Data from the 2017-2018 school year\n",
    "df_17_18 = pd.read_csv('Private_School_Locations_2017-18.csv')\n",
    "\n",
    "# This imports the Private School Data from the 2019-2020 school year\n",
    "df_19_20 = pd.read_csv('Private_School_Locations_-_Current.csv')\n",
    "\n",
    "# This imports population data by state for 2015-2019 in Thousands (Taken from STL Federal Reserve)\n",
    "df_pop = pd.read_csv('Pop_by_State.csv')"
   ]
  },
  {
   "cell_type": "code",
   "execution_count": 2,
   "metadata": {
    "collapsed": true
   },
   "outputs": [],
   "source": [
    "# This function will help label the bar graphs below.\n",
    "\n",
    "def autolabel(rects, xpos='center'):\n",
    "    \"\"\"\n",
    "    Attach a text label above each bar in *rects*, displaying its height.\n",
    "\n",
    "    *xpos* indicates which side to place the text w.r.t. the center of\n",
    "    the bar. It can be one of the following {'center', 'right', 'left'}.\n",
    "    \"\"\"\n",
    "\n",
    "    ha = {'center': 'center', 'right': 'left', 'left': 'right'}\n",
    "    offset = {'center': 0, 'right': 1, 'left': -1}\n",
    "\n",
    "    for rect in rects:\n",
    "        height = rect.get_height()\n",
    "        ax.annotate('{}'.format(height),\n",
    "                    xy=(rect.get_x() + rect.get_width() / 2, height),\n",
    "                    xytext=(offset[xpos]*3, 3),  # use 3 points offset\n",
    "                    textcoords=\"offset points\",  # in both directions\n",
    "                    ha=ha[xpos], va='bottom')\n"
   ]
  },
  {
   "cell_type": "markdown",
   "metadata": {},
   "source": [
    "## Population Data\n",
    "First, let's look at the population change over time for every state in the U.S."
   ]
  },
  {
   "cell_type": "code",
   "execution_count": 3,
   "metadata": {
    "collapsed": true
   },
   "outputs": [],
   "source": [
    "# This cleans the population dataframe (Deletes NaN and converts years to integers)\n",
    "df_pop.dropna(inplace=True)\n",
    "df_pop['YEAR'] = df_pop['YEAR'].astype(dtype='int')\n",
    "df_pop.set_index('YEAR', drop=True, inplace=True)"
   ]
  },
  {
   "cell_type": "code",
   "execution_count": 4,
   "metadata": {},
   "outputs": [
    {
     "data": {
      "text/html": [
       "<div>\n",
       "<style scoped>\n",
       "    .dataframe tbody tr th:only-of-type {\n",
       "        vertical-align: middle;\n",
       "    }\n",
       "\n",
       "    .dataframe tbody tr th {\n",
       "        vertical-align: top;\n",
       "    }\n",
       "\n",
       "    .dataframe thead th {\n",
       "        text-align: right;\n",
       "    }\n",
       "</style>\n",
       "<table border=\"1\" class=\"dataframe\">\n",
       "  <thead>\n",
       "    <tr style=\"text-align: right;\">\n",
       "      <th></th>\n",
       "      <th>AK</th>\n",
       "      <th>AL</th>\n",
       "      <th>AR</th>\n",
       "      <th>AZ</th>\n",
       "      <th>CA</th>\n",
       "      <th>CO</th>\n",
       "      <th>CT</th>\n",
       "      <th>DE</th>\n",
       "      <th>FL</th>\n",
       "      <th>GA</th>\n",
       "      <th>...</th>\n",
       "      <th>SD</th>\n",
       "      <th>TN</th>\n",
       "      <th>TX</th>\n",
       "      <th>UT</th>\n",
       "      <th>VA</th>\n",
       "      <th>VT</th>\n",
       "      <th>WA</th>\n",
       "      <th>WI</th>\n",
       "      <th>WV</th>\n",
       "      <th>WY</th>\n",
       "    </tr>\n",
       "    <tr>\n",
       "      <th>YEAR</th>\n",
       "      <th></th>\n",
       "      <th></th>\n",
       "      <th></th>\n",
       "      <th></th>\n",
       "      <th></th>\n",
       "      <th></th>\n",
       "      <th></th>\n",
       "      <th></th>\n",
       "      <th></th>\n",
       "      <th></th>\n",
       "      <th></th>\n",
       "      <th></th>\n",
       "      <th></th>\n",
       "      <th></th>\n",
       "      <th></th>\n",
       "      <th></th>\n",
       "      <th></th>\n",
       "      <th></th>\n",
       "      <th></th>\n",
       "      <th></th>\n",
       "      <th></th>\n",
       "    </tr>\n",
       "  </thead>\n",
       "  <tbody>\n",
       "    <tr>\n",
       "      <th>2017</th>\n",
       "      <td>739.700</td>\n",
       "      <td>4874.486</td>\n",
       "      <td>3001.345</td>\n",
       "      <td>7044.008</td>\n",
       "      <td>39358.497</td>\n",
       "      <td>5611.885</td>\n",
       "      <td>3573.297</td>\n",
       "      <td>956.823</td>\n",
       "      <td>20963.613</td>\n",
       "      <td>10410.330</td>\n",
       "      <td>...</td>\n",
       "      <td>872.868</td>\n",
       "      <td>6708.799</td>\n",
       "      <td>28295.273</td>\n",
       "      <td>3101.042</td>\n",
       "      <td>8463.587</td>\n",
       "      <td>624.344</td>\n",
       "      <td>7423.362</td>\n",
       "      <td>5790.186</td>\n",
       "      <td>1817.004</td>\n",
       "      <td>578.931</td>\n",
       "    </tr>\n",
       "    <tr>\n",
       "      <th>2018</th>\n",
       "      <td>735.139</td>\n",
       "      <td>4887.681</td>\n",
       "      <td>3009.733</td>\n",
       "      <td>7158.024</td>\n",
       "      <td>39461.588</td>\n",
       "      <td>5691.287</td>\n",
       "      <td>3571.520</td>\n",
       "      <td>965.479</td>\n",
       "      <td>21244.317</td>\n",
       "      <td>10511.131</td>\n",
       "      <td>...</td>\n",
       "      <td>878.698</td>\n",
       "      <td>6771.631</td>\n",
       "      <td>28628.666</td>\n",
       "      <td>3153.550</td>\n",
       "      <td>8501.286</td>\n",
       "      <td>624.358</td>\n",
       "      <td>7523.869</td>\n",
       "      <td>5807.406</td>\n",
       "      <td>1804.291</td>\n",
       "      <td>577.601</td>\n",
       "    </tr>\n",
       "    <tr>\n",
       "      <th>2019</th>\n",
       "      <td>731.545</td>\n",
       "      <td>4903.185</td>\n",
       "      <td>3017.804</td>\n",
       "      <td>7278.717</td>\n",
       "      <td>39512.223</td>\n",
       "      <td>5758.736</td>\n",
       "      <td>3565.287</td>\n",
       "      <td>973.764</td>\n",
       "      <td>21477.737</td>\n",
       "      <td>10617.423</td>\n",
       "      <td>...</td>\n",
       "      <td>884.659</td>\n",
       "      <td>6829.174</td>\n",
       "      <td>28995.881</td>\n",
       "      <td>3205.958</td>\n",
       "      <td>8535.519</td>\n",
       "      <td>623.989</td>\n",
       "      <td>7614.893</td>\n",
       "      <td>5822.434</td>\n",
       "      <td>1792.147</td>\n",
       "      <td>578.759</td>\n",
       "    </tr>\n",
       "  </tbody>\n",
       "</table>\n",
       "<p>3 rows × 50 columns</p>\n",
       "</div>"
      ],
      "text/plain": [
       "           AK        AL        AR        AZ         CA        CO        CT  \\\n",
       "YEAR                                                                         \n",
       "2017  739.700  4874.486  3001.345  7044.008  39358.497  5611.885  3573.297   \n",
       "2018  735.139  4887.681  3009.733  7158.024  39461.588  5691.287  3571.520   \n",
       "2019  731.545  4903.185  3017.804  7278.717  39512.223  5758.736  3565.287   \n",
       "\n",
       "           DE         FL         GA  ...       SD        TN         TX  \\\n",
       "YEAR                                 ...                                 \n",
       "2017  956.823  20963.613  10410.330  ...  872.868  6708.799  28295.273   \n",
       "2018  965.479  21244.317  10511.131  ...  878.698  6771.631  28628.666   \n",
       "2019  973.764  21477.737  10617.423  ...  884.659  6829.174  28995.881   \n",
       "\n",
       "            UT        VA       VT        WA        WI        WV       WY  \n",
       "YEAR                                                                      \n",
       "2017  3101.042  8463.587  624.344  7423.362  5790.186  1817.004  578.931  \n",
       "2018  3153.550  8501.286  624.358  7523.869  5807.406  1804.291  577.601  \n",
       "2019  3205.958  8535.519  623.989  7614.893  5822.434  1792.147  578.759  \n",
       "\n",
       "[3 rows x 50 columns]"
      ]
     },
     "metadata": {},
     "output_type": "display_data"
    }
   ],
   "source": [
    "display(df_pop.loc[2017:2019])"
   ]
  },
  {
   "cell_type": "code",
   "execution_count": 5,
   "metadata": {
    "collapsed": true
   },
   "outputs": [],
   "source": [
    "# Here are the populations by state for year 2017 and 2019\n",
    "state_pops_17 = df_pop.loc[2017]\n",
    "state_pops_19 = df_pop.loc[2019]\n",
    "\n",
    "# Creates a new table that includes the population change between 2017 and 2019\n",
    "state_pop_chg = pd.concat([state_pops_17, state_pops_19], axis=1)\n",
    "state_pop_chg['Change'] = state_pop_chg[2019] - state_pop_chg[2017] \n",
    "state_pop_chg['Prop_Change'] = state_pop_chg['Change'] / state_pop_chg[2017]\n",
    "state_pop_chg.sort_values('Change', inplace=True)\n",
    "\n",
    "# Creates tables for the states with the greatest population losses and gains\n",
    "ST_pop_losses = state_pop_chg.copy().iloc[:5]\n",
    "ST_pop_gains = state_pop_chg.copy().iloc[45:]"
   ]
  },
  {
   "cell_type": "markdown",
   "metadata": {},
   "source": [
    "### _States with the Biggest Losses in Population_"
   ]
  },
  {
   "cell_type": "markdown",
   "metadata": {},
   "source": [
    "Looking at the states with the biggest total losses in population over the two year period, even of the states that lost the most population, it's clear that there wasn't a drastic decline. This is particularly evident when you look at the bar graph below. The losses are almost imperceptible."
   ]
  },
  {
   "cell_type": "code",
   "execution_count": 6,
   "metadata": {},
   "outputs": [
    {
     "data": {
      "text/html": [
       "<div>\n",
       "<style scoped>\n",
       "    .dataframe tbody tr th:only-of-type {\n",
       "        vertical-align: middle;\n",
       "    }\n",
       "\n",
       "    .dataframe tbody tr th {\n",
       "        vertical-align: top;\n",
       "    }\n",
       "\n",
       "    .dataframe thead th {\n",
       "        text-align: right;\n",
       "    }\n",
       "</style>\n",
       "<table border=\"1\" class=\"dataframe\">\n",
       "  <thead>\n",
       "    <tr style=\"text-align: right;\">\n",
       "      <th></th>\n",
       "      <th>2017</th>\n",
       "      <th>2019</th>\n",
       "      <th>Change</th>\n",
       "    </tr>\n",
       "  </thead>\n",
       "  <tbody>\n",
       "    <tr>\n",
       "      <th>NY</th>\n",
       "      <td>19589.572</td>\n",
       "      <td>19453.561</td>\n",
       "      <td>-136.011</td>\n",
       "    </tr>\n",
       "    <tr>\n",
       "      <th>IL</th>\n",
       "      <td>12778.828</td>\n",
       "      <td>12671.821</td>\n",
       "      <td>-107.007</td>\n",
       "    </tr>\n",
       "    <tr>\n",
       "      <th>WV</th>\n",
       "      <td>1817.004</td>\n",
       "      <td>1792.147</td>\n",
       "      <td>-24.857</td>\n",
       "    </tr>\n",
       "    <tr>\n",
       "      <th>LA</th>\n",
       "      <td>4670.560</td>\n",
       "      <td>4648.794</td>\n",
       "      <td>-21.766</td>\n",
       "    </tr>\n",
       "    <tr>\n",
       "      <th>MS</th>\n",
       "      <td>2988.510</td>\n",
       "      <td>2976.149</td>\n",
       "      <td>-12.361</td>\n",
       "    </tr>\n",
       "  </tbody>\n",
       "</table>\n",
       "</div>"
      ],
      "text/plain": [
       "         2017       2019   Change\n",
       "NY  19589.572  19453.561 -136.011\n",
       "IL  12778.828  12671.821 -107.007\n",
       "WV   1817.004   1792.147  -24.857\n",
       "LA   4670.560   4648.794  -21.766\n",
       "MS   2988.510   2976.149  -12.361"
      ]
     },
     "metadata": {},
     "output_type": "display_data"
    }
   ],
   "source": [
    "display(ST_pop_losses.drop(columns='Prop_Change'))"
   ]
  },
  {
   "cell_type": "code",
   "execution_count": 7,
   "metadata": {},
   "outputs": [
    {
     "data": {
      "image/png": "[encoded data removed]",
      "text/plain": [
       "<Figure size 432x288 with 1 Axes>"
      ]
     },
     "metadata": {
      "needs_background": "light"
     },
     "output_type": "display_data"
    }
   ],
   "source": [
    "pop_losses1 = ST_pop_losses[2017]\n",
    "pop_losses2 = ST_pop_losses[2019]\n",
    "\n",
    "ind = np.arange(len(pop_losses1))  # the x locations for the groups\n",
    "width = 0.35  # the width of the bars\n",
    "\n",
    "fig, ax = plt.subplots()\n",
    "rects1 = ax.bar(ind - width/2, pop_losses1, width,\n",
    "                label='2017', color='green', edgecolor='black')\n",
    "rects2 = ax.bar(ind + width/2, pop_losses2, width,\n",
    "                label='2019', color='yellow', edgecolor='black')\n",
    "\n",
    "# Add some text for labels, title and custom x-axis tick labels, etc.\n",
    "ax.set_ylabel('Population (thousands)')\n",
    "ax.set_title('States with the Largest Population Decrease from 2017-2019')\n",
    "ax.set_xticks(ind)\n",
    "ax.set_xticklabels(('NY', 'IL', 'WV', 'LA', 'MS'))\n",
    "ax.legend()\n",
    "\n",
    "fig.tight_layout()\n",
    "\n",
    "plt.show()"
   ]
  },
  {
   "cell_type": "code",
   "execution_count": 8,
   "metadata": {},
   "outputs": [
    {
     "data": {
      "text/html": [
       "<div>\n",
       "<style scoped>\n",
       "    .dataframe tbody tr th:only-of-type {\n",
       "        vertical-align: middle;\n",
       "    }\n",
       "\n",
       "    .dataframe tbody tr th {\n",
       "        vertical-align: top;\n",
       "    }\n",
       "\n",
       "    .dataframe thead th {\n",
       "        text-align: right;\n",
       "    }\n",
       "</style>\n",
       "<table border=\"1\" class=\"dataframe\">\n",
       "  <thead>\n",
       "    <tr style=\"text-align: right;\">\n",
       "      <th></th>\n",
       "      <th>Percent_Change</th>\n",
       "    </tr>\n",
       "  </thead>\n",
       "  <tbody>\n",
       "    <tr>\n",
       "      <th>NY</th>\n",
       "      <td>-0.69%</td>\n",
       "    </tr>\n",
       "    <tr>\n",
       "      <th>IL</th>\n",
       "      <td>-0.84%</td>\n",
       "    </tr>\n",
       "    <tr>\n",
       "      <th>WV</th>\n",
       "      <td>-1.37%</td>\n",
       "    </tr>\n",
       "    <tr>\n",
       "      <th>LA</th>\n",
       "      <td>-0.47%</td>\n",
       "    </tr>\n",
       "    <tr>\n",
       "      <th>MS</th>\n",
       "      <td>-0.41%</td>\n",
       "    </tr>\n",
       "  </tbody>\n",
       "</table>\n",
       "</div>"
      ],
      "text/plain": [
       "   Percent_Change\n",
       "NY         -0.69%\n",
       "IL         -0.84%\n",
       "WV         -1.37%\n",
       "LA         -0.47%\n",
       "MS         -0.41%"
      ]
     },
     "metadata": {},
     "output_type": "display_data"
    }
   ],
   "source": [
    "ST_pop_losses['Percent_Change'] = round(ST_pop_losses['Prop_Change']*100, 2).astype(str) + '%'\n",
    "display(ST_pop_losses[['Percent_Change']])"
   ]
  },
  {
   "cell_type": "markdown",
   "metadata": {},
   "source": [
    "### _States with the Biggest Gains in Population_"
   ]
  },
  {
   "cell_type": "markdown",
   "metadata": {},
   "source": [
    "Looking at the states with the biggest total gains in population over the two year period, the gains can be seen much more clearly. "
   ]
  },
  {
   "cell_type": "code",
   "execution_count": 9,
   "metadata": {},
   "outputs": [
    {
     "data": {
      "text/html": [
       "<div>\n",
       "<style scoped>\n",
       "    .dataframe tbody tr th:only-of-type {\n",
       "        vertical-align: middle;\n",
       "    }\n",
       "\n",
       "    .dataframe tbody tr th {\n",
       "        vertical-align: top;\n",
       "    }\n",
       "\n",
       "    .dataframe thead th {\n",
       "        text-align: right;\n",
       "    }\n",
       "</style>\n",
       "<table border=\"1\" class=\"dataframe\">\n",
       "  <thead>\n",
       "    <tr style=\"text-align: right;\">\n",
       "      <th></th>\n",
       "      <th>2017</th>\n",
       "      <th>2019</th>\n",
       "      <th>Change</th>\n",
       "    </tr>\n",
       "  </thead>\n",
       "  <tbody>\n",
       "    <tr>\n",
       "      <th>GA</th>\n",
       "      <td>10410.330</td>\n",
       "      <td>10617.423</td>\n",
       "      <td>207.093</td>\n",
       "    </tr>\n",
       "    <tr>\n",
       "      <th>NC</th>\n",
       "      <td>10268.233</td>\n",
       "      <td>10488.084</td>\n",
       "      <td>219.851</td>\n",
       "    </tr>\n",
       "    <tr>\n",
       "      <th>AZ</th>\n",
       "      <td>7044.008</td>\n",
       "      <td>7278.717</td>\n",
       "      <td>234.709</td>\n",
       "    </tr>\n",
       "    <tr>\n",
       "      <th>FL</th>\n",
       "      <td>20963.613</td>\n",
       "      <td>21477.737</td>\n",
       "      <td>514.124</td>\n",
       "    </tr>\n",
       "    <tr>\n",
       "      <th>TX</th>\n",
       "      <td>28295.273</td>\n",
       "      <td>28995.881</td>\n",
       "      <td>700.608</td>\n",
       "    </tr>\n",
       "  </tbody>\n",
       "</table>\n",
       "</div>"
      ],
      "text/plain": [
       "         2017       2019   Change\n",
       "GA  10410.330  10617.423  207.093\n",
       "NC  10268.233  10488.084  219.851\n",
       "AZ   7044.008   7278.717  234.709\n",
       "FL  20963.613  21477.737  514.124\n",
       "TX  28295.273  28995.881  700.608"
      ]
     },
     "metadata": {},
     "output_type": "display_data"
    }
   ],
   "source": [
    "display(ST_pop_gains.drop(columns='Prop_Change'))"
   ]
  },
  {
   "cell_type": "code",
   "execution_count": 10,
   "metadata": {},
   "outputs": [
    {
     "data": {
      "image/png": "[encoded data removed]",
      "text/plain": [
       "<Figure size 432x288 with 1 Axes>"
      ]
     },
     "metadata": {
      "needs_background": "light"
     },
     "output_type": "display_data"
    }
   ],
   "source": [
    "pop_gains1 = ST_pop_gains[2017]\n",
    "pop_gains2 = ST_pop_gains[2019]\n",
    "\n",
    "ind = np.arange(len(pop_gains1))  # the x locations for the groups\n",
    "width = 0.35  # the width of the bars\n",
    "\n",
    "fig, ax = plt.subplots()\n",
    "rects1 = ax.bar(ind - width/2, pop_gains1, width,\n",
    "                label='2017', color='green', edgecolor='black')\n",
    "rects2 = ax.bar(ind + width/2, pop_gains2, width,\n",
    "                label='2019', color='yellow', edgecolor='black')\n",
    "\n",
    "# Add some text for labels, title and custom x-axis tick labels, etc.\n",
    "ax.set_ylabel('Population (thousands)')\n",
    "ax.set_title('States with the Largest Population Increase from 2017-2019')\n",
    "ax.set_xticks(ind)\n",
    "ax.set_xticklabels(('GA', 'NC', 'AZ', 'FL', 'TX'))\n",
    "ax.legend()\n",
    "\n",
    "fig.tight_layout()\n",
    "\n",
    "plt.show()"
   ]
  },
  {
   "cell_type": "code",
   "execution_count": 11,
   "metadata": {},
   "outputs": [
    {
     "data": {
      "text/html": [
       "<div>\n",
       "<style scoped>\n",
       "    .dataframe tbody tr th:only-of-type {\n",
       "        vertical-align: middle;\n",
       "    }\n",
       "\n",
       "    .dataframe tbody tr th {\n",
       "        vertical-align: top;\n",
       "    }\n",
       "\n",
       "    .dataframe thead th {\n",
       "        text-align: right;\n",
       "    }\n",
       "</style>\n",
       "<table border=\"1\" class=\"dataframe\">\n",
       "  <thead>\n",
       "    <tr style=\"text-align: right;\">\n",
       "      <th></th>\n",
       "      <th>Percent_Change</th>\n",
       "    </tr>\n",
       "  </thead>\n",
       "  <tbody>\n",
       "    <tr>\n",
       "      <th>GA</th>\n",
       "      <td>1.99%</td>\n",
       "    </tr>\n",
       "    <tr>\n",
       "      <th>NC</th>\n",
       "      <td>2.14%</td>\n",
       "    </tr>\n",
       "    <tr>\n",
       "      <th>AZ</th>\n",
       "      <td>3.33%</td>\n",
       "    </tr>\n",
       "    <tr>\n",
       "      <th>FL</th>\n",
       "      <td>2.45%</td>\n",
       "    </tr>\n",
       "    <tr>\n",
       "      <th>TX</th>\n",
       "      <td>2.48%</td>\n",
       "    </tr>\n",
       "  </tbody>\n",
       "</table>\n",
       "</div>"
      ],
      "text/plain": [
       "   Percent_Change\n",
       "GA          1.99%\n",
       "NC          2.14%\n",
       "AZ          3.33%\n",
       "FL          2.45%\n",
       "TX          2.48%"
      ]
     },
     "metadata": {},
     "output_type": "display_data"
    }
   ],
   "source": [
    "ST_pop_gains['Percent_Change'] = round(ST_pop_gains['Prop_Change']*100, 2).astype(str) + '%'\n",
    "display(ST_pop_gains[['Percent_Change']])"
   ]
  },
  {
   "cell_type": "markdown",
   "metadata": {},
   "source": [
    "## The Number of Private Schools\n",
    "Let's now look at the number of private schools in each state for the 17-18 school year and the 19-20 school year.\n",
    "\n",
    "### _2017-2018 School Year_"
   ]
  },
  {
   "cell_type": "code",
   "execution_count": 12,
   "metadata": {},
   "outputs": [
    {
     "data": {
      "text/html": [
       "<div>\n",
       "<style scoped>\n",
       "    .dataframe tbody tr th:only-of-type {\n",
       "        vertical-align: middle;\n",
       "    }\n",
       "\n",
       "    .dataframe tbody tr th {\n",
       "        vertical-align: top;\n",
       "    }\n",
       "\n",
       "    .dataframe thead th {\n",
       "        text-align: right;\n",
       "    }\n",
       "</style>\n",
       "<table border=\"1\" class=\"dataframe\">\n",
       "  <thead>\n",
       "    <tr style=\"text-align: right;\">\n",
       "      <th></th>\n",
       "      <th>X</th>\n",
       "      <th>Y</th>\n",
       "      <th>PPIN</th>\n",
       "      <th>NAME</th>\n",
       "      <th>STREET</th>\n",
       "      <th>CITY</th>\n",
       "      <th>STATE</th>\n",
       "      <th>SCHOOLYEAR</th>\n",
       "    </tr>\n",
       "  </thead>\n",
       "  <tbody>\n",
       "    <tr>\n",
       "      <th>0</th>\n",
       "      <td>-86.541882</td>\n",
       "      <td>32.472096</td>\n",
       "      <td>2722</td>\n",
       "      <td>AUTAUGA ACADEMY</td>\n",
       "      <td>497 GOLSON RD</td>\n",
       "      <td>PRATTVILLE</td>\n",
       "      <td>AL</td>\n",
       "      <td>2017-2018</td>\n",
       "    </tr>\n",
       "    <tr>\n",
       "      <th>1</th>\n",
       "      <td>-86.457878</td>\n",
       "      <td>32.469057</td>\n",
       "      <td>A0100060</td>\n",
       "      <td>CAMELLIA BAPTIST WEM</td>\n",
       "      <td>201 WOODVALE RD</td>\n",
       "      <td>PRATTVILLE</td>\n",
       "      <td>AL</td>\n",
       "      <td>2017-2018</td>\n",
       "    </tr>\n",
       "    <tr>\n",
       "      <th>2</th>\n",
       "      <td>-86.424686</td>\n",
       "      <td>32.499700</td>\n",
       "      <td>A0500015</td>\n",
       "      <td>EAST MEMORIAL CHRISTIAN ACADEMY</td>\n",
       "      <td>1320 OLD RIDGE RD N</td>\n",
       "      <td>PRATTVILLE</td>\n",
       "      <td>AL</td>\n",
       "      <td>2017-2018</td>\n",
       "    </tr>\n",
       "    <tr>\n",
       "      <th>3</th>\n",
       "      <td>-86.472066</td>\n",
       "      <td>32.460806</td>\n",
       "      <td>A0900032</td>\n",
       "      <td>FIRST PRESBYTERIAN KINDERGARTEN</td>\n",
       "      <td>211 S CHESTNUT ST</td>\n",
       "      <td>PRATTVILLE</td>\n",
       "      <td>AL</td>\n",
       "      <td>2017-2018</td>\n",
       "    </tr>\n",
       "    <tr>\n",
       "      <th>4</th>\n",
       "      <td>-86.466886</td>\n",
       "      <td>32.459906</td>\n",
       "      <td>A1300011</td>\n",
       "      <td>FOUNTAIN CITY BAPTIST HOME SCHOOL</td>\n",
       "      <td>237 S NORTHINGTON ST</td>\n",
       "      <td>PRATTVILLE</td>\n",
       "      <td>AL</td>\n",
       "      <td>2017-2018</td>\n",
       "    </tr>\n",
       "  </tbody>\n",
       "</table>\n",
       "</div>"
      ],
      "text/plain": [
       "           X          Y      PPIN                               NAME  \\\n",
       "0 -86.541882  32.472096      2722                    AUTAUGA ACADEMY   \n",
       "1 -86.457878  32.469057  A0100060               CAMELLIA BAPTIST WEM   \n",
       "2 -86.424686  32.499700  A0500015    EAST MEMORIAL CHRISTIAN ACADEMY   \n",
       "3 -86.472066  32.460806  A0900032    FIRST PRESBYTERIAN KINDERGARTEN   \n",
       "4 -86.466886  32.459906  A1300011  FOUNTAIN CITY BAPTIST HOME SCHOOL   \n",
       "\n",
       "                 STREET        CITY STATE SCHOOLYEAR  \n",
       "0         497 GOLSON RD  PRATTVILLE    AL  2017-2018  \n",
       "1       201 WOODVALE RD  PRATTVILLE    AL  2017-2018  \n",
       "2   1320 OLD RIDGE RD N  PRATTVILLE    AL  2017-2018  \n",
       "3     211 S CHESTNUT ST  PRATTVILLE    AL  2017-2018  \n",
       "4  237 S NORTHINGTON ST  PRATTVILLE    AL  2017-2018  "
      ]
     },
     "metadata": {},
     "output_type": "display_data"
    }
   ],
   "source": [
    "# This is the head of the data from 2017-2018\n",
    "df_17_18_sml = df_17_18[['X', 'Y', 'PPIN', 'NAME', 'STREET', 'CITY', 'STATE', 'SCHOOLYEAR']]\n",
    "display(df_17_18_sml.head(5))"
   ]
  },
  {
   "cell_type": "markdown",
   "metadata": {},
   "source": [
    "### _2019-2020 School Year_"
   ]
  },
  {
   "cell_type": "code",
   "execution_count": 13,
   "metadata": {},
   "outputs": [
    {
     "data": {
      "text/html": [
       "<div>\n",
       "<style scoped>\n",
       "    .dataframe tbody tr th:only-of-type {\n",
       "        vertical-align: middle;\n",
       "    }\n",
       "\n",
       "    .dataframe tbody tr th {\n",
       "        vertical-align: top;\n",
       "    }\n",
       "\n",
       "    .dataframe thead th {\n",
       "        text-align: right;\n",
       "    }\n",
       "</style>\n",
       "<table border=\"1\" class=\"dataframe\">\n",
       "  <thead>\n",
       "    <tr style=\"text-align: right;\">\n",
       "      <th></th>\n",
       "      <th>X</th>\n",
       "      <th>Y</th>\n",
       "      <th>PPIN</th>\n",
       "      <th>NAME</th>\n",
       "      <th>STREET</th>\n",
       "      <th>CITY</th>\n",
       "      <th>STATE</th>\n",
       "      <th>SCHOOLYEAR</th>\n",
       "    </tr>\n",
       "  </thead>\n",
       "  <tbody>\n",
       "    <tr>\n",
       "      <th>0</th>\n",
       "      <td>-85.989151</td>\n",
       "      <td>34.023810</td>\n",
       "      <td>33</td>\n",
       "      <td>ST JAMES CATHOLIC SCHOOL</td>\n",
       "      <td>511 EWING AVE</td>\n",
       "      <td>GADSDEN</td>\n",
       "      <td>AL</td>\n",
       "      <td>2019-2020</td>\n",
       "    </tr>\n",
       "    <tr>\n",
       "      <th>1</th>\n",
       "      <td>-87.529118</td>\n",
       "      <td>33.173709</td>\n",
       "      <td>44</td>\n",
       "      <td>HOLY SPIRIT CATHOLIC SCHOOL</td>\n",
       "      <td>601 JAMES I HARRISON JR PKWY E</td>\n",
       "      <td>TUSCALOOSA</td>\n",
       "      <td>AL</td>\n",
       "      <td>2019-2020</td>\n",
       "    </tr>\n",
       "    <tr>\n",
       "      <th>2</th>\n",
       "      <td>-86.603421</td>\n",
       "      <td>34.734490</td>\n",
       "      <td>55</td>\n",
       "      <td>HOLY FAMILY PAROCHIAL SCHOOL</td>\n",
       "      <td>2300 BEASLEY AVE NW</td>\n",
       "      <td>HUNTSVILLE</td>\n",
       "      <td>AL</td>\n",
       "      <td>2019-2020</td>\n",
       "    </tr>\n",
       "    <tr>\n",
       "      <th>3</th>\n",
       "      <td>-86.572216</td>\n",
       "      <td>34.690402</td>\n",
       "      <td>77</td>\n",
       "      <td>HOLY SPIRIT REGIONAL CATHOLIC SCHOOL</td>\n",
       "      <td>619 AIRPORT RD SW</td>\n",
       "      <td>HUNTSVILLE</td>\n",
       "      <td>AL</td>\n",
       "      <td>2019-2020</td>\n",
       "    </tr>\n",
       "    <tr>\n",
       "      <th>4</th>\n",
       "      <td>-86.841558</td>\n",
       "      <td>34.177923</td>\n",
       "      <td>135</td>\n",
       "      <td>SACRED HEART ELEMENTARY</td>\n",
       "      <td>112 2ND AVE SE</td>\n",
       "      <td>CULLMAN</td>\n",
       "      <td>AL</td>\n",
       "      <td>2019-2020</td>\n",
       "    </tr>\n",
       "  </tbody>\n",
       "</table>\n",
       "</div>"
      ],
      "text/plain": [
       "           X          Y PPIN                                  NAME  \\\n",
       "0 -85.989151  34.023810   33              ST JAMES CATHOLIC SCHOOL   \n",
       "1 -87.529118  33.173709   44           HOLY SPIRIT CATHOLIC SCHOOL   \n",
       "2 -86.603421  34.734490   55          HOLY FAMILY PAROCHIAL SCHOOL   \n",
       "3 -86.572216  34.690402   77  HOLY SPIRIT REGIONAL CATHOLIC SCHOOL   \n",
       "4 -86.841558  34.177923  135               SACRED HEART ELEMENTARY   \n",
       "\n",
       "                           STREET        CITY STATE SCHOOLYEAR  \n",
       "0                   511 EWING AVE     GADSDEN    AL  2019-2020  \n",
       "1  601 JAMES I HARRISON JR PKWY E  TUSCALOOSA    AL  2019-2020  \n",
       "2             2300 BEASLEY AVE NW  HUNTSVILLE    AL  2019-2020  \n",
       "3               619 AIRPORT RD SW  HUNTSVILLE    AL  2019-2020  \n",
       "4                  112 2ND AVE SE     CULLMAN    AL  2019-2020  "
      ]
     },
     "metadata": {},
     "output_type": "display_data"
    }
   ],
   "source": [
    "# This is the head of the data from 2019-2020\n",
    "df_19_20_sml = df_19_20[['X', 'Y', 'PPIN', 'NAME', 'STREET', 'CITY', 'STATE', 'SCHOOLYEAR']]\n",
    "display(df_19_20_sml.head(5))"
   ]
  },
  {
   "cell_type": "code",
   "execution_count": 14,
   "metadata": {
    "collapsed": true
   },
   "outputs": [],
   "source": [
    "# Since I didn't have population data for DC, I removed it from my school numbers as well\n",
    "df_17_18_sch_num = df_17_18_sml.groupby('STATE').size()\n",
    "df_17_18_sch_num.drop('DC', inplace=True)\n",
    "\n",
    "df_19_20_sch_num = df_19_20_sml.groupby('STATE').size()\n",
    "df_19_20_sch_num.drop('DC', inplace=True)"
   ]
  },
  {
   "cell_type": "code",
   "execution_count": 15,
   "metadata": {
    "collapsed": true
   },
   "outputs": [],
   "source": [
    "df_sch_chg = pd.concat([df_17_18_sch_num, df_19_20_sch_num], axis=1)\n",
    "df_sch_chg.reset_index(inplace=True)\n",
    "df_sch_chg.rename(columns={'STATE': 'State', 0:'Schools in 17-18', 1:'Schools in 19-20'}, inplace=True)\n",
    "df_sch_chg['Amt_Change'] = df_sch_chg['Schools in 19-20'] - df_sch_chg['Schools in 17-18']\n",
    "df_sch_chg['Prop_Change'] = df_sch_chg['Amt_Change']/df_sch_chg['Schools in 17-18']\n",
    "df_amt_chg = df_sch_chg.sort_values('Amt_Change', ignore_index=True)\n",
    "big_losses = df_amt_chg.copy().iloc[:5]\n",
    "big_gains = df_amt_chg.copy().iloc[45:]"
   ]
  },
  {
   "cell_type": "markdown",
   "metadata": {},
   "source": [
    "### _How Many States Had Losses in the Number of Private Schools?_"
   ]
  },
  {
   "cell_type": "code",
   "execution_count": 16,
   "metadata": {},
   "outputs": [
    {
     "name": "stdout",
     "output_type": "stream",
     "text": [
      "The number of states that gained private schools (or stayed the same): 9\n",
      "The number of states that lost private schools: 41\n",
      "The number of private schools in the U.S. declined in 82% of states.\n"
     ]
    }
   ],
   "source": [
    "st_gained_or_same = len(df_amt_chg.query('Amt_Change >= 0'))\n",
    "st_losses = len(df_amt_chg.query('Amt_Change < 0'))\n",
    "print(f\"The number of states that gained private schools (or stayed the same): {st_gained_or_same}\")\n",
    "print(f\"The number of states that lost private schools: {st_losses}\")\n",
    "print(f\"The number of private schools in the U.S. declined in 82% of states.\")"
   ]
  },
  {
   "cell_type": "markdown",
   "metadata": {},
   "source": [
    "### _States with the Biggest Losses in Number of Private Schools_\n",
    "The drop in the number of private schools in these states over a two year period is remarkable."
   ]
  },
  {
   "cell_type": "code",
   "execution_count": 17,
   "metadata": {},
   "outputs": [
    {
     "data": {
      "text/html": [
       "<div>\n",
       "<style scoped>\n",
       "    .dataframe tbody tr th:only-of-type {\n",
       "        vertical-align: middle;\n",
       "    }\n",
       "\n",
       "    .dataframe tbody tr th {\n",
       "        vertical-align: top;\n",
       "    }\n",
       "\n",
       "    .dataframe thead th {\n",
       "        text-align: right;\n",
       "    }\n",
       "</style>\n",
       "<table border=\"1\" class=\"dataframe\">\n",
       "  <thead>\n",
       "    <tr style=\"text-align: right;\">\n",
       "      <th></th>\n",
       "      <th>State</th>\n",
       "      <th>Schools in 17-18</th>\n",
       "      <th>Schools in 19-20</th>\n",
       "      <th>Amt_Change</th>\n",
       "    </tr>\n",
       "  </thead>\n",
       "  <tbody>\n",
       "    <tr>\n",
       "      <th>0</th>\n",
       "      <td>CA</td>\n",
       "      <td>2514</td>\n",
       "      <td>2315</td>\n",
       "      <td>-199</td>\n",
       "    </tr>\n",
       "    <tr>\n",
       "      <th>1</th>\n",
       "      <td>NY</td>\n",
       "      <td>1334</td>\n",
       "      <td>1147</td>\n",
       "      <td>-187</td>\n",
       "    </tr>\n",
       "    <tr>\n",
       "      <th>2</th>\n",
       "      <td>FL</td>\n",
       "      <td>1850</td>\n",
       "      <td>1723</td>\n",
       "      <td>-127</td>\n",
       "    </tr>\n",
       "    <tr>\n",
       "      <th>3</th>\n",
       "      <td>IL</td>\n",
       "      <td>1041</td>\n",
       "      <td>918</td>\n",
       "      <td>-123</td>\n",
       "    </tr>\n",
       "    <tr>\n",
       "      <th>4</th>\n",
       "      <td>OH</td>\n",
       "      <td>1021</td>\n",
       "      <td>948</td>\n",
       "      <td>-73</td>\n",
       "    </tr>\n",
       "  </tbody>\n",
       "</table>\n",
       "</div>"
      ],
      "text/plain": [
       "  State  Schools in 17-18  Schools in 19-20  Amt_Change\n",
       "0    CA              2514              2315        -199\n",
       "1    NY              1334              1147        -187\n",
       "2    FL              1850              1723        -127\n",
       "3    IL              1041               918        -123\n",
       "4    OH              1021               948         -73"
      ]
     },
     "metadata": {},
     "output_type": "display_data"
    }
   ],
   "source": [
    "display(big_losses.drop(columns='Prop_Change'))"
   ]
  },
  {
   "cell_type": "code",
   "execution_count": 18,
   "metadata": {},
   "outputs": [
    {
     "data": {
      "image/png": "[encoded data removed]",
      "text/plain": [
       "<Figure size 432x288 with 1 Axes>"
      ]
     },
     "metadata": {
      "needs_background": "light"
     },
     "output_type": "display_data"
    }
   ],
   "source": [
    "big_losses1 = big_losses['Schools in 17-18']\n",
    "big_losses2 = big_losses['Schools in 19-20']\n",
    "\n",
    "ind = np.arange(len(big_losses1))  # the x locations for the groups\n",
    "width = 0.35  # the width of the bars\n",
    "\n",
    "fig, ax = plt.subplots()\n",
    "rects1 = ax.bar(ind - width/2, big_losses1, width,\n",
    "                label='17-18')\n",
    "rects2 = ax.bar(ind + width/2, big_losses2, width,\n",
    "                label='19-20')\n",
    "\n",
    "# Add some text for labels, title and custom x-axis tick labels, etc.\n",
    "ax.set_ylabel('Number of Schools')\n",
    "ax.set_title('States with the Most Private School Decrease from 2017-2020')\n",
    "ax.set_xticks(ind)\n",
    "ax.set_xticklabels(('CA', 'NY', 'FL', 'IL', 'OH'))\n",
    "ax.legend()\n",
    "\n",
    "autolabel(rects1, \"left\")\n",
    "autolabel(rects2, \"right\")\n",
    "\n",
    "fig.tight_layout()\n",
    "\n",
    "plt.show()"
   ]
  },
  {
   "cell_type": "code",
   "execution_count": 19,
   "metadata": {},
   "outputs": [
    {
     "data": {
      "text/html": [
       "<div>\n",
       "<style scoped>\n",
       "    .dataframe tbody tr th:only-of-type {\n",
       "        vertical-align: middle;\n",
       "    }\n",
       "\n",
       "    .dataframe tbody tr th {\n",
       "        vertical-align: top;\n",
       "    }\n",
       "\n",
       "    .dataframe thead th {\n",
       "        text-align: right;\n",
       "    }\n",
       "</style>\n",
       "<table border=\"1\" class=\"dataframe\">\n",
       "  <thead>\n",
       "    <tr style=\"text-align: right;\">\n",
       "      <th></th>\n",
       "      <th>State</th>\n",
       "      <th>Percent_Change</th>\n",
       "    </tr>\n",
       "  </thead>\n",
       "  <tbody>\n",
       "    <tr>\n",
       "      <th>0</th>\n",
       "      <td>CA</td>\n",
       "      <td>-7.92%</td>\n",
       "    </tr>\n",
       "    <tr>\n",
       "      <th>1</th>\n",
       "      <td>NY</td>\n",
       "      <td>-14.02%</td>\n",
       "    </tr>\n",
       "    <tr>\n",
       "      <th>2</th>\n",
       "      <td>FL</td>\n",
       "      <td>-6.86%</td>\n",
       "    </tr>\n",
       "    <tr>\n",
       "      <th>3</th>\n",
       "      <td>IL</td>\n",
       "      <td>-11.82%</td>\n",
       "    </tr>\n",
       "    <tr>\n",
       "      <th>4</th>\n",
       "      <td>OH</td>\n",
       "      <td>-7.15%</td>\n",
       "    </tr>\n",
       "  </tbody>\n",
       "</table>\n",
       "</div>"
      ],
      "text/plain": [
       "  State Percent_Change\n",
       "0    CA         -7.92%\n",
       "1    NY        -14.02%\n",
       "2    FL         -6.86%\n",
       "3    IL        -11.82%\n",
       "4    OH         -7.15%"
      ]
     },
     "metadata": {},
     "output_type": "display_data"
    }
   ],
   "source": [
    "big_losses['Percent_Change'] = round(big_losses['Prop_Change']*100, 2).astype(str) + '%'\n",
    "display(big_losses[['State','Percent_Change']])"
   ]
  },
  {
   "cell_type": "markdown",
   "metadata": {},
   "source": [
    "### _States with the Biggest Gains in Number of Private Schools_\n",
    "Compared to the states with losses, most of the gains are negligible. However, Texas has an increase of 53 new private schools."
   ]
  },
  {
   "cell_type": "code",
   "execution_count": 20,
   "metadata": {},
   "outputs": [
    {
     "data": {
      "text/html": [
       "<div>\n",
       "<style scoped>\n",
       "    .dataframe tbody tr th:only-of-type {\n",
       "        vertical-align: middle;\n",
       "    }\n",
       "\n",
       "    .dataframe tbody tr th {\n",
       "        vertical-align: top;\n",
       "    }\n",
       "\n",
       "    .dataframe thead th {\n",
       "        text-align: right;\n",
       "    }\n",
       "</style>\n",
       "<table border=\"1\" class=\"dataframe\">\n",
       "  <thead>\n",
       "    <tr style=\"text-align: right;\">\n",
       "      <th></th>\n",
       "      <th>State</th>\n",
       "      <th>Schools in 17-18</th>\n",
       "      <th>Schools in 19-20</th>\n",
       "      <th>Amt_Change</th>\n",
       "    </tr>\n",
       "  </thead>\n",
       "  <tbody>\n",
       "    <tr>\n",
       "      <th>45</th>\n",
       "      <td>IN</td>\n",
       "      <td>618</td>\n",
       "      <td>623</td>\n",
       "      <td>5</td>\n",
       "    </tr>\n",
       "    <tr>\n",
       "      <th>46</th>\n",
       "      <td>OK</td>\n",
       "      <td>128</td>\n",
       "      <td>135</td>\n",
       "      <td>7</td>\n",
       "    </tr>\n",
       "    <tr>\n",
       "      <th>47</th>\n",
       "      <td>AR</td>\n",
       "      <td>122</td>\n",
       "      <td>129</td>\n",
       "      <td>7</td>\n",
       "    </tr>\n",
       "    <tr>\n",
       "      <th>48</th>\n",
       "      <td>AZ</td>\n",
       "      <td>250</td>\n",
       "      <td>264</td>\n",
       "      <td>14</td>\n",
       "    </tr>\n",
       "    <tr>\n",
       "      <th>49</th>\n",
       "      <td>TX</td>\n",
       "      <td>1188</td>\n",
       "      <td>1241</td>\n",
       "      <td>53</td>\n",
       "    </tr>\n",
       "  </tbody>\n",
       "</table>\n",
       "</div>"
      ],
      "text/plain": [
       "   State  Schools in 17-18  Schools in 19-20  Amt_Change\n",
       "45    IN               618               623           5\n",
       "46    OK               128               135           7\n",
       "47    AR               122               129           7\n",
       "48    AZ               250               264          14\n",
       "49    TX              1188              1241          53"
      ]
     },
     "metadata": {},
     "output_type": "display_data"
    }
   ],
   "source": [
    "display(big_gains.drop(columns='Prop_Change'))"
   ]
  },
  {
   "cell_type": "code",
   "execution_count": 21,
   "metadata": {},
   "outputs": [
    {
     "data": {
      "image/png": "[encoded data removed]",
      "text/plain": [
       "<Figure size 432x288 with 1 Axes>"
      ]
     },
     "metadata": {
      "needs_background": "light"
     },
     "output_type": "display_data"
    }
   ],
   "source": [
    "big_gains1 = big_gains['Schools in 17-18']\n",
    "big_gains2 = big_gains['Schools in 19-20']\n",
    "\n",
    "ind = np.arange(len(big_gains1))  # the x locations for the groups\n",
    "width = 0.35  # the width of the bars\n",
    "\n",
    "fig, ax = plt.subplots()\n",
    "rects1 = ax.bar(ind - width/2, big_gains1, width,\n",
    "                label='17-18')\n",
    "rects2 = ax.bar(ind + width/2, big_gains2, width,\n",
    "                label='19-20')\n",
    "\n",
    "# Add some text for labels, title and custom x-axis tick labels, etc.\n",
    "ax.set_ylabel('Number of Schools')\n",
    "ax.set_title('States with Most Private School Increase from 2017-2020')\n",
    "ax.set_xticks(ind)\n",
    "ax.set_xticklabels(('IN', 'OK','AR', 'AZ', 'TX'))\n",
    "ax.legend()\n",
    "\n",
    "autolabel(rects1, \"left\")\n",
    "autolabel(rects2, \"right\")\n",
    "\n",
    "fig.tight_layout()\n",
    "\n",
    "plt.show()"
   ]
  },
  {
   "cell_type": "code",
   "execution_count": 22,
   "metadata": {
    "collapsed": true
   },
   "outputs": [],
   "source": [
    "# This combines the school numbers data with the state population data\n",
    "df_17_sch_num_pop = pd.concat([df_17_18_sch_num, state_pops_17], axis=1).rename(columns={0:'SCHOOLS', 2017: '2017_POP'})\n",
    "df_19_sch_num_pop = pd.concat([df_19_20_sch_num, state_pops_19], axis=1).rename(columns={0:'SCHOOLS', 2019: '2019_POP'})\n"
   ]
  },
  {
   "cell_type": "markdown",
   "metadata": {},
   "source": [
    "## Population vs. Number of Private Schools\n",
    "This scatterplot shows the population vs. the number of schools for all 50 states for both 2017 and 2019. "
   ]
  },
  {
   "cell_type": "code",
   "execution_count": 23,
   "metadata": {},
   "outputs": [
    {
     "data": {
      "image/png": "[encoded data removed]",
      "text/plain": [
       "<Figure size 432x288 with 1 Axes>"
      ]
     },
     "metadata": {
      "needs_background": "light"
     },
     "output_type": "display_data"
    }
   ],
   "source": [
    "# This creates a scatterplot of the state population vs. the number of private schools\n",
    "\n",
    "fig, ax = plt.subplots()\n",
    "ax.scatter(df_17_sch_num_pop['2017_POP'], df_17_sch_num_pop['SCHOOLS'], label='2017')\n",
    "ax.scatter(df_19_sch_num_pop['2019_POP'], df_19_sch_num_pop['SCHOOLS'], label='2019')\n",
    "ax.set_ylabel('Number of Private Schools')\n",
    "ax.set_xlabel('State Population')\n",
    "ax.set_title('State Population vs. Number of Private Schools in 2017 and 2019')\n",
    "ax.legend()\n",
    "\n",
    "plt.show()"
   ]
  },
  {
   "cell_type": "markdown",
   "metadata": {},
   "source": [
    "Not surprisingly, states with a larger population tend to have more private schools. \n",
    "\n",
    "Let's combine the school change data and the population change data into a single dataframe, so we can take a look as some of the exceptions to the rule."
   ]
  },
  {
   "cell_type": "code",
   "execution_count": 24,
   "metadata": {},
   "outputs": [
    {
     "name": "stderr",
     "output_type": "stream",
     "text": [
      "/usr/lib/python3.7/site-packages/ipykernel_launcher.py:8: SettingWithCopyWarning: \n",
      "A value is trying to be set on a copy of a slice from a DataFrame.\n",
      "Try using .loc[row_indexer,col_indexer] = value instead\n",
      "\n",
      "See the caveats in the documentation: https://pandas.pydata.org/pandas-docs/stable/user_guide/indexing.html#returning-a-view-versus-a-copy\n",
      "  \n"
     ]
    },
    {
     "data": {
      "image/png": "[encoded data removed]",
      "text/plain": [
       "<Figure size 432x288 with 1 Axes>"
      ]
     },
     "metadata": {
      "needs_background": "light"
     },
     "output_type": "display_data"
    }
   ],
   "source": [
    "df_sch_chg2 = df_sch_chg.copy().set_index('State')\n",
    "df_sch_chg2.rename(columns={'Prop_Change':'Sch_Prop_Chg'}, inplace=True)\n",
    "state_pop_chg.rename(columns={'Prop_Change': 'Pop_Prop_Chg'}, inplace=True)\n",
    "df_combined = pd.concat([state_pop_chg, df_sch_chg2], axis=1)\n",
    "\n",
    "# These are the states with private schools over 1100 as of 2017\n",
    "df_top_states = df_combined[df_combined['Schools in 17-18'] > 1100]\n",
    "df_top_states['States'] = df_top_states.index.values\n",
    "\n",
    "# Most of this setup will be used in the \"Top Private School's Scatterplot\" \n",
    "# However, the ordered pairs and labels will be used to annotate the top states in this scatterplot.\n",
    "x1 = df_top_states[2017]\n",
    "y1 = df_top_states['Schools in 17-18']\n",
    "z1 = df_top_states.index.values\n",
    "\n",
    "x2 = df_top_states[2019]\n",
    "y2 = df_top_states['Schools in 19-20']\n",
    "z2 = df_top_states.index.values\n",
    "\n",
    "fig, ax0 = plt.subplots()\n",
    "\n",
    "# I want to label the top states in the general scatterplot\n",
    "for i, txt in enumerate(z1):\n",
    "    ax0.annotate(txt, (x1[i], y1[i]))\n",
    "\n",
    "ax0.set_ylabel('Number of Private Schools')\n",
    "ax0.set_xlabel('State Population')\n",
    "ax0.set_title('Population vs. Private Schools 2017')\n",
    "\n",
    "# This creates a Least-Squares-Regression-Line for the data\n",
    "# First, we grab the x and y coordinates of the points on the scatterplot\n",
    "x3 = df_combined[2017]\n",
    "y3 = df_combined['Schools in 17-18']\n",
    "\n",
    "# To use the lstsq method from numpy, we need a matrix A which has the x-data values and a column of ones\n",
    "ones = np.ones(len(x3))\n",
    "A = np.vstack([x3, ones]).T\n",
    "coef = np.linalg.lstsq(A, y3, rcond=None)\n",
    "m, c = coef[0]\n",
    "\n",
    "# Here are the predicted y-values using our LSRL\n",
    "pred_y3 = m*x3 + c\n",
    "\n",
    "# The scatterplot\n",
    "ax0.plot(x3, y3, 'yo') \n",
    "\n",
    "# The LSRL\n",
    "ax0.plot(x3, pred_y3)\n",
    "\n",
    "plt.show()\n",
    "\n"
   ]
  },
  {
   "cell_type": "markdown",
   "metadata": {},
   "source": [
    "As you can see, Texas has fewer private schools than predicted based on its population. Pennsylvania and Florida have more private schools than predicted based on their population. "
   ]
  },
  {
   "cell_type": "code",
   "execution_count": 25,
   "metadata": {},
   "outputs": [
    {
     "data": {
      "text/plain": [
       "<matplotlib.legend.Legend at 0x7f1e0a979450>"
      ]
     },
     "execution_count": 25,
     "metadata": {},
     "output_type": "execute_result"
    },
    {
     "data": {
      "image/png": "[encoded data removed]",
      "text/plain": [
       "<Figure size 432x288 with 1 Axes>"
      ]
     },
     "metadata": {
      "needs_background": "light"
     },
     "output_type": "display_data"
    }
   ],
   "source": [
    "x1 = df_top_states[2017]\n",
    "y1 = df_top_states['Schools in 17-18']\n",
    "z1 = df_top_states.index.values\n",
    "\n",
    "x2 = df_top_states[2019]\n",
    "y2 = df_top_states['Schools in 19-20']\n",
    "z2 = df_top_states.index.values\n",
    "\n",
    "fig, ax1 = plt.subplots()\n",
    "ax1.scatter(x1, y1, c='slategrey', label='2017')\n",
    "ax1.scatter(x2, y2, c='blue', label='2019')\n",
    "\n",
    "for i, txt in enumerate(z1):\n",
    "    ax1.annotate(txt, (x1[i], y1[i]))\n",
    "\n",
    "ax1.set_ylabel('Number of Private Schools')\n",
    "ax1.set_xlabel('State Population')\n",
    "ax1.set_title('Population vs. Private Schools 2017 & 2019 for Top States')\n",
    "ax1.legend()"
   ]
  },
  {
   "cell_type": "markdown",
   "metadata": {},
   "source": [
    "The scatterplot above shows the change in the population and the number of private schools for the top five states (by number of private schools) from 2017 to 2019."
   ]
  },
  {
   "cell_type": "markdown",
   "metadata": {},
   "source": [
    "### Percent Change of Number of Schools vs. Percent Change of Population\n",
    "Let's look at a visual representation of whether there's an association between states that grew and also tended to gain private schools, and if the states whose population declined tended to also see a decline in private schools as well."
   ]
  },
  {
   "cell_type": "markdown",
   "metadata": {},
   "source": [
    "Now, we add two columns to show whether a state had and increase or decrease in population and private schools. "
   ]
  },
  {
   "cell_type": "code",
   "execution_count": 26,
   "metadata": {},
   "outputs": [
    {
     "data": {
      "text/html": [
       "<div>\n",
       "<style scoped>\n",
       "    .dataframe tbody tr th:only-of-type {\n",
       "        vertical-align: middle;\n",
       "    }\n",
       "\n",
       "    .dataframe tbody tr th {\n",
       "        vertical-align: top;\n",
       "    }\n",
       "\n",
       "    .dataframe thead th {\n",
       "        text-align: right;\n",
       "    }\n",
       "</style>\n",
       "<table border=\"1\" class=\"dataframe\">\n",
       "  <thead>\n",
       "    <tr style=\"text-align: right;\">\n",
       "      <th></th>\n",
       "      <th>2017</th>\n",
       "      <th>2019</th>\n",
       "      <th>Change</th>\n",
       "      <th>Pop_Prop_Chg</th>\n",
       "      <th>Schools in 17-18</th>\n",
       "      <th>Schools in 19-20</th>\n",
       "      <th>Amt_Change</th>\n",
       "      <th>Sch_Prop_Chg</th>\n",
       "      <th>School_Inc_Dec</th>\n",
       "      <th>Pop_Inc_Dec</th>\n",
       "    </tr>\n",
       "  </thead>\n",
       "  <tbody>\n",
       "    <tr>\n",
       "      <th>CA</th>\n",
       "      <td>39358.497</td>\n",
       "      <td>39512.223</td>\n",
       "      <td>153.726</td>\n",
       "      <td>0.003906</td>\n",
       "      <td>2514</td>\n",
       "      <td>2315</td>\n",
       "      <td>-199</td>\n",
       "      <td>-0.079157</td>\n",
       "      <td>Decrease</td>\n",
       "      <td>Increase</td>\n",
       "    </tr>\n",
       "    <tr>\n",
       "      <th>DE</th>\n",
       "      <td>956.823</td>\n",
       "      <td>973.764</td>\n",
       "      <td>16.941</td>\n",
       "      <td>0.017705</td>\n",
       "      <td>88</td>\n",
       "      <td>75</td>\n",
       "      <td>-13</td>\n",
       "      <td>-0.147727</td>\n",
       "      <td>Decrease</td>\n",
       "      <td>Increase</td>\n",
       "    </tr>\n",
       "    <tr>\n",
       "      <th>TX</th>\n",
       "      <td>28295.273</td>\n",
       "      <td>28995.881</td>\n",
       "      <td>700.608</td>\n",
       "      <td>0.024761</td>\n",
       "      <td>1188</td>\n",
       "      <td>1241</td>\n",
       "      <td>53</td>\n",
       "      <td>0.044613</td>\n",
       "      <td>Increase</td>\n",
       "      <td>Increase</td>\n",
       "    </tr>\n",
       "    <tr>\n",
       "      <th>OK</th>\n",
       "      <td>3931.316</td>\n",
       "      <td>3956.971</td>\n",
       "      <td>25.655</td>\n",
       "      <td>0.006526</td>\n",
       "      <td>128</td>\n",
       "      <td>135</td>\n",
       "      <td>7</td>\n",
       "      <td>0.054688</td>\n",
       "      <td>Increase</td>\n",
       "      <td>Increase</td>\n",
       "    </tr>\n",
       "    <tr>\n",
       "      <th>NY</th>\n",
       "      <td>19589.572</td>\n",
       "      <td>19453.561</td>\n",
       "      <td>-136.011</td>\n",
       "      <td>-0.006943</td>\n",
       "      <td>1334</td>\n",
       "      <td>1147</td>\n",
       "      <td>-187</td>\n",
       "      <td>-0.140180</td>\n",
       "      <td>Decrease</td>\n",
       "      <td>Decrease</td>\n",
       "    </tr>\n",
       "  </tbody>\n",
       "</table>\n",
       "</div>"
      ],
      "text/plain": [
       "         2017       2019   Change  Pop_Prop_Chg  Schools in 17-18  \\\n",
       "CA  39358.497  39512.223  153.726      0.003906              2514   \n",
       "DE    956.823    973.764   16.941      0.017705                88   \n",
       "TX  28295.273  28995.881  700.608      0.024761              1188   \n",
       "OK   3931.316   3956.971   25.655      0.006526               128   \n",
       "NY  19589.572  19453.561 -136.011     -0.006943              1334   \n",
       "\n",
       "    Schools in 19-20  Amt_Change  Sch_Prop_Chg School_Inc_Dec Pop_Inc_Dec  \n",
       "CA              2315        -199     -0.079157       Decrease    Increase  \n",
       "DE                75         -13     -0.147727       Decrease    Increase  \n",
       "TX              1241          53      0.044613       Increase    Increase  \n",
       "OK               135           7      0.054688       Increase    Increase  \n",
       "NY              1147        -187     -0.140180       Decrease    Decrease  "
      ]
     },
     "execution_count": 26,
     "metadata": {},
     "output_type": "execute_result"
    }
   ],
   "source": [
    "df_combined['School_Inc_Dec'] = 'Increase'\n",
    "df_combined.loc[df_combined['Sch_Prop_Chg'] < 0 , 'School_Inc_Dec'] = 'Decrease'\n",
    "df_combined['Pop_Inc_Dec'] = 'Increase'\n",
    "df_combined.loc[df_combined['Pop_Prop_Chg'] < 0 , 'Pop_Inc_Dec'] = 'Decrease'\n",
    "df_combined.sample(5)"
   ]
  },
  {
   "cell_type": "markdown",
   "metadata": {},
   "source": [
    "This is a crosstab of the number of states for each combination of outcomes. As you can see the vast majority of states had an increase in population but a decline in the number of private schools."
   ]
  },
  {
   "cell_type": "code",
   "execution_count": 27,
   "metadata": {},
   "outputs": [
    {
     "data": {
      "text/html": [
       "<div>\n",
       "<style scoped>\n",
       "    .dataframe tbody tr th:only-of-type {\n",
       "        vertical-align: middle;\n",
       "    }\n",
       "\n",
       "    .dataframe tbody tr th {\n",
       "        vertical-align: top;\n",
       "    }\n",
       "\n",
       "    .dataframe thead th {\n",
       "        text-align: right;\n",
       "    }\n",
       "</style>\n",
       "<table border=\"1\" class=\"dataframe\">\n",
       "  <thead>\n",
       "    <tr style=\"text-align: right;\">\n",
       "      <th>School_Inc_Dec</th>\n",
       "      <th>Decrease</th>\n",
       "      <th>Increase</th>\n",
       "    </tr>\n",
       "    <tr>\n",
       "      <th>Pop_Inc_Dec</th>\n",
       "      <th></th>\n",
       "      <th></th>\n",
       "    </tr>\n",
       "  </thead>\n",
       "  <tbody>\n",
       "    <tr>\n",
       "      <th>Decrease</th>\n",
       "      <td>9</td>\n",
       "      <td>2</td>\n",
       "    </tr>\n",
       "    <tr>\n",
       "      <th>Increase</th>\n",
       "      <td>32</td>\n",
       "      <td>7</td>\n",
       "    </tr>\n",
       "  </tbody>\n",
       "</table>\n",
       "</div>"
      ],
      "text/plain": [
       "School_Inc_Dec  Decrease  Increase\n",
       "Pop_Inc_Dec                       \n",
       "Decrease               9         2\n",
       "Increase              32         7"
      ]
     },
     "execution_count": 27,
     "metadata": {},
     "output_type": "execute_result"
    }
   ],
   "source": [
    "pd.crosstab(index=df_combined['Pop_Inc_Dec'], columns=df_combined['School_Inc_Dec'])"
   ]
  },
  {
   "cell_type": "markdown",
   "metadata": {},
   "source": [
    "Based on the values in those two columns, a color-number is assigned for the scatterplot. "
   ]
  },
  {
   "cell_type": "code",
   "execution_count": 28,
   "metadata": {
    "collapsed": true
   },
   "outputs": [],
   "source": [
    "df_combined['Color'] = 'Red'\n",
    "df_combined.loc[(df_combined['School_Inc_Dec']=='Increase') & (df_combined['Pop_Inc_Dec']=='Decrease') , 'Color'] = 'Blue'\n",
    "df_combined.loc[(df_combined['School_Inc_Dec']=='Decrease') & (df_combined['Pop_Inc_Dec']=='Increase') , 'Color'] = 'Green'\n",
    "df_combined.loc[(df_combined['School_Inc_Dec']=='Increase') & (df_combined['Pop_Inc_Dec']=='Increase') , 'Color'] = 'Purple'\n"
   ]
  },
  {
   "cell_type": "markdown",
   "metadata": {},
   "source": [
    "This scatterplot summarizes visually what the table shows above.\n",
    "\n",
    "RED DOTS: States that lost population and lost private schools\n",
    "\n",
    "GREEN DOTS: States that gained population and lost private schools (MOST STATES)\n",
    "\n",
    "BLUE DOTS: States that lost population and gained private schools\n",
    "\n",
    "PURPLE DOTS: States that gained population and gained private schools"
   ]
  },
  {
   "cell_type": "code",
   "execution_count": 29,
   "metadata": {},
   "outputs": [
    {
     "data": {
      "image/png": "[encoded data removed]",
      "text/plain": [
       "<Figure size 432x288 with 1 Axes>"
      ]
     },
     "metadata": {
      "needs_background": "light"
     },
     "output_type": "display_data"
    }
   ],
   "source": [
    "plt.scatter(df_combined['Pop_Prop_Chg'], df_combined['Sch_Prop_Chg'], color=df_combined['Color'])\n",
    "plt.grid(True)"
   ]
  },
  {
   "cell_type": "markdown",
   "metadata": {},
   "source": [
    "### A Weird Name For a School: \"C/O Sam Brubaker, Chairman\"\n",
    "While I was looking through the data, I noticed a really bizzare school name. In fact, it was the name of 20 schools. After doing a little research I found that this is the name of the chairman of several menonite schools in Pennsylvania. Here's the head of that subset of schools from the DF."
   ]
  },
  {
   "cell_type": "code",
   "execution_count": 30,
   "metadata": {},
   "outputs": [
    {
     "data": {
      "text/html": [
       "<div>\n",
       "<style scoped>\n",
       "    .dataframe tbody tr th:only-of-type {\n",
       "        vertical-align: middle;\n",
       "    }\n",
       "\n",
       "    .dataframe tbody tr th {\n",
       "        vertical-align: top;\n",
       "    }\n",
       "\n",
       "    .dataframe thead th {\n",
       "        text-align: right;\n",
       "    }\n",
       "</style>\n",
       "<table border=\"1\" class=\"dataframe\">\n",
       "  <thead>\n",
       "    <tr style=\"text-align: right;\">\n",
       "      <th></th>\n",
       "      <th>X</th>\n",
       "      <th>Y</th>\n",
       "      <th>OBJECTID</th>\n",
       "      <th>PPIN</th>\n",
       "      <th>NAME</th>\n",
       "      <th>STREET</th>\n",
       "      <th>CITY</th>\n",
       "      <th>STATE</th>\n",
       "      <th>ZIP</th>\n",
       "      <th>STFIP</th>\n",
       "      <th>SCHOOLYEAR</th>\n",
       "    </tr>\n",
       "  </thead>\n",
       "  <tbody>\n",
       "    <tr>\n",
       "      <th>17348</th>\n",
       "      <td>-75.936315</td>\n",
       "      <td>40.095384</td>\n",
       "      <td>17349</td>\n",
       "      <td>A9702965</td>\n",
       "      <td>C/O SAM BRUBAKER, CHAIRMAN</td>\n",
       "      <td>305 MILL RD</td>\n",
       "      <td>NARVON</td>\n",
       "      <td>PA</td>\n",
       "      <td>17555</td>\n",
       "      <td>42</td>\n",
       "      <td>2017-2018</td>\n",
       "    </tr>\n",
       "    <tr>\n",
       "      <th>17807</th>\n",
       "      <td>-75.986763</td>\n",
       "      <td>40.119838</td>\n",
       "      <td>17808</td>\n",
       "      <td>1200224</td>\n",
       "      <td>C/O SAM BRUBAKER, CHAIRMAN</td>\n",
       "      <td>201 BRIDGEVILLE RD</td>\n",
       "      <td>EAST EARL</td>\n",
       "      <td>PA</td>\n",
       "      <td>17519</td>\n",
       "      <td>42</td>\n",
       "      <td>2017-2018</td>\n",
       "    </tr>\n",
       "    <tr>\n",
       "      <th>17811</th>\n",
       "      <td>-75.942655</td>\n",
       "      <td>40.168190</td>\n",
       "      <td>17812</td>\n",
       "      <td>1201771</td>\n",
       "      <td>C/O SAM BRUBAKER, CHAIRMAN</td>\n",
       "      <td>2502 ZERBE ST</td>\n",
       "      <td>NARVON</td>\n",
       "      <td>PA</td>\n",
       "      <td>17555</td>\n",
       "      <td>42</td>\n",
       "      <td>2017-2018</td>\n",
       "    </tr>\n",
       "    <tr>\n",
       "      <th>17813</th>\n",
       "      <td>-76.111060</td>\n",
       "      <td>40.255766</td>\n",
       "      <td>17814</td>\n",
       "      <td>1907593</td>\n",
       "      <td>C/O SAM BRUBAKER, CHAIRMAN</td>\n",
       "      <td>362 BRUNNERS GROVE RD</td>\n",
       "      <td>REINHOLDS</td>\n",
       "      <td>PA</td>\n",
       "      <td>17569</td>\n",
       "      <td>42</td>\n",
       "      <td>2017-2018</td>\n",
       "    </tr>\n",
       "    <tr>\n",
       "      <th>17815</th>\n",
       "      <td>-76.028833</td>\n",
       "      <td>40.141678</td>\n",
       "      <td>17816</td>\n",
       "      <td>1907618</td>\n",
       "      <td>C/O SAM BRUBAKER, CHAIRMAN</td>\n",
       "      <td>308 READING RD</td>\n",
       "      <td>EAST EARL</td>\n",
       "      <td>PA</td>\n",
       "      <td>17519</td>\n",
       "      <td>42</td>\n",
       "      <td>2017-2018</td>\n",
       "    </tr>\n",
       "  </tbody>\n",
       "</table>\n",
       "</div>"
      ],
      "text/plain": [
       "               X          Y  OBJECTID      PPIN                        NAME  \\\n",
       "17348 -75.936315  40.095384     17349  A9702965  C/O SAM BRUBAKER, CHAIRMAN   \n",
       "17807 -75.986763  40.119838     17808   1200224  C/O SAM BRUBAKER, CHAIRMAN   \n",
       "17811 -75.942655  40.168190     17812   1201771  C/O SAM BRUBAKER, CHAIRMAN   \n",
       "17813 -76.111060  40.255766     17814   1907593  C/O SAM BRUBAKER, CHAIRMAN   \n",
       "17815 -76.028833  40.141678     17816   1907618  C/O SAM BRUBAKER, CHAIRMAN   \n",
       "\n",
       "                      STREET       CITY STATE    ZIP  STFIP SCHOOLYEAR  \n",
       "17348            305 MILL RD     NARVON    PA  17555     42  2017-2018  \n",
       "17807     201 BRIDGEVILLE RD  EAST EARL    PA  17519     42  2017-2018  \n",
       "17811          2502 ZERBE ST     NARVON    PA  17555     42  2017-2018  \n",
       "17813  362 BRUNNERS GROVE RD  REINHOLDS    PA  17569     42  2017-2018  \n",
       "17815         308 READING RD  EAST EARL    PA  17519     42  2017-2018  "
      ]
     },
     "metadata": {},
     "output_type": "display_data"
    }
   ],
   "source": [
    "# A little research showed that these school are small menonite schools in PA\n",
    "display(df_17_18[df_17_18['NAME']=='C/O SAM BRUBAKER, CHAIRMAN'].head())"
   ]
  },
  {
   "cell_type": "markdown",
   "metadata": {},
   "source": [
    "### With More Time:\n",
    "If I had more time, I would like to use some of the tools that we learned like PCA/SVD to analyze this further. It seems like this would be an appropriate use for such tools.\n",
    "\n",
    "Additionally, I wish that I could have found enrollment data for all of the schools. Also, it would be really interesting to look at public school enrollments as well as class sizes for both public and private schools."
   ]
  }
 ],
 "metadata": {
  "kernelspec": {
   "display_name": "Python 3 [3.7]",
   "language": "python",
   "name": "python3"
  },
  "language_info": {
   "codemirror_mode": {
    "name": "ipython",
    "version": 3
   },
   "file_extension": ".py",
   "mimetype": "text/x-python",
   "name": "python",
   "nbconvert_exporter": "python",
   "pygments_lexer": "ipython3",
   "version": "3.7.5"
  }
 },
 "nbformat": 4,
 "nbformat_minor": 4
}
